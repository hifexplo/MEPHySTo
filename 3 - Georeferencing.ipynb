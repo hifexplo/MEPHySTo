{
 "cells": [
  {
   "cell_type": "markdown",
   "metadata": {},
   "source": [
    "# Georeferencing of drone-borne HSI on existing Orthophoto"
   ]
  },
  {
   "cell_type": "code",
   "execution_count": 1,
   "metadata": {},
   "outputs": [],
   "source": [
    "from M2a_Pre_Georef_GPS import *"
   ]
  },
  {
   "cell_type": "code",
   "execution_count": 2,
   "metadata": {},
   "outputs": [],
   "source": [
    "MAIN= '/Volumes/fernerkundung/data/VitaMin/Fieldwork/20181026_Bernsteinsee/Aibot_RIKOLA/CalibData/reg/'   #path to image folder\n",
    "FILENAME='*12reg.hdr'                #single image name or '*.hdr' for all images in folder\n",
    "ORTHO='/Volumes/fernerkundung/data/VitaMin/Fieldwork/20181026_Bernsteinsee/Results/20181026_Bernsteinsee_Mosaic.tif'                 #path to orthophoto"
   ]
  },
  {
   "cell_type": "code",
   "execution_count": 3,
   "metadata": {},
   "outputs": [
    {
     "name": "stdout",
     "output_type": "stream",
     "text": [
      "Calib_K00012reg.hdr\n"
     ]
    }
   ],
   "source": [
    "Georef(MAIN,FILENAME,ORTHO,EPSG=25833, Verbose=True, matching='poly')"
   ]
  },
  {
   "cell_type": "code",
   "execution_count": 6,
   "metadata": {},
   "outputs": [
    {
     "name": "stderr",
     "output_type": "stream",
     "text": [
      "Clipping input data to the valid range for imshow with RGB data ([0..1] for floats or [0..255] for integers).\n"
     ]
    },
    {
     "data": {
      "text/plain": [
       "<matplotlib.image.AxesImage at 0xb2ef66a58>"
      ]
     },
     "execution_count": 6,
     "metadata": {},
     "output_type": "execute_result"
    }
   ],
   "source": [
    "im=envi.open(MAIN+\"georef/Calib_K00012reg_georef.hdr\").load()\n",
    "imshow(im, bands=(12,22,32))"
   ]
  },
  {
   "cell_type": "code",
   "execution_count": null,
   "metadata": {},
   "outputs": [],
   "source": []
  }
 ],
 "metadata": {
  "kernelspec": {
   "display_name": "Python 3",
   "language": "python",
   "name": "python3"
  },
  "language_info": {
   "codemirror_mode": {
    "name": "ipython",
    "version": 3
   },
   "file_extension": ".py",
   "mimetype": "text/x-python",
   "name": "python",
   "nbconvert_exporter": "python",
   "pygments_lexer": "ipython3",
   "version": "3.6.10"
  }
 },
 "nbformat": 4,
 "nbformat_minor": 2
}
