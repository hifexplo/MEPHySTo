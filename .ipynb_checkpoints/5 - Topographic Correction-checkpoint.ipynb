{
 "cells": [
  {
   "cell_type": "markdown",
   "metadata": {},
   "source": [
    "# Topographic Correction"
   ]
  },
  {
   "cell_type": "code",
   "execution_count": 3,
   "metadata": {},
   "outputs": [],
   "source": [
    "from M3_Pre_Topo import *"
   ]
  },
  {
   "cell_type": "code",
   "execution_count": 4,
   "metadata": {},
   "outputs": [],
   "source": [
    "filename='/Volumes/fernerkundung/data/CZ/2018-06-06_Litov/RIKOLA/georef_12/12/Calib_K00012reg_georef.hdr'\n",
    "DEMw='/Volumes/fernerkundung/data/CZ/2018-06-06_Litov/RIKOLA/georef_12/12/Calib_K00012reg_georef_DEM'\n"
   ]
  },
  {
   "cell_type": "code",
   "execution_count": null,
   "metadata": {},
   "outputs": [
    {
     "name": "stdout",
     "output_type": "stream",
     "text": [
      "calculating slope and aspect\n",
      "c-factor\n"
     ]
    }
   ],
   "source": [
    "topo (filename, DEMw, TZ = 1,DTw =[2015,8,26,15,32,55,0],Lat = 50.147912,Lon = 12.633017, METHOD='cfactor', EPSG='EPSG:32633')"
   ]
  },
  {
   "cell_type": "markdown",
   "metadata": {},
   "source": [
    "##### "
   ]
  },
  {
   "cell_type": "code",
   "execution_count": null,
   "metadata": {},
   "outputs": [],
   "source": []
  }
 ],
 "metadata": {
  "kernelspec": {
   "display_name": "Python 3",
   "language": "python",
   "name": "python3"
  },
  "language_info": {
   "codemirror_mode": {
    "name": "ipython",
    "version": 3
   },
   "file_extension": ".py",
   "mimetype": "text/x-python",
   "name": "python",
   "nbconvert_exporter": "python",
   "pygments_lexer": "ipython3",
   "version": "3.6.10"
  }
 },
 "nbformat": 4,
 "nbformat_minor": 2
}
